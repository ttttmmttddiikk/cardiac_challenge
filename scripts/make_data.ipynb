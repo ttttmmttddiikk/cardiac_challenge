{
 "cells": [
  {
   "cell_type": "code",
   "execution_count": null,
   "metadata": {},
   "outputs": [],
   "source": [
    "import glob, re, os\n",
    "import numpy as np\n",
    "import pandas as pd\n",
    "import matplotlib.pyplot as plt"
   ]
  },
  {
   "cell_type": "code",
   "execution_count": null,
   "metadata": {},
   "outputs": [],
   "source": [
    "%run cardiac_ml_tools.py"
   ]
  },
  {
   "cell_type": "markdown",
   "metadata": {},
   "source": [
    "### var"
   ]
  },
  {
   "cell_type": "code",
   "execution_count": null,
   "metadata": {},
   "outputs": [],
   "source": [
    "dir_list = [\"data_hearts_dd_0p2\",\n",
    "            \"data_hearts_dd_0p2_geo_act_1_bcl\",\n",
    "            \"data_hearts_dd_0p2_geo_act_1_bcl_gkr\",\n",
    "            \"data_hearts_dd_0p2_geo_act_1_bcl_gkr_I\",\n",
    "            \"data_hearts_dd_0p2_geo_act_2_bcl\",\n",
    "            \"data_hearts_dd_0p2_geo_act_2_bcl_gkr\",\n",
    "            \"data_hearts_dd_0p2_geo_act_2_bcl_gkr_I\",\n",
    "            \"data_hearts_dd_0p2_geo_act_3_bcl\",\n",
    "            \"data_hearts_dd_0p2_geo_act_3_bcl_gkr\",\n",
    "            \"data_hearts_dd_0p2_geo_act_3_bcl_gkr_I\",\n",
    "            \"data_hearts_dd_0p2_geo_inn\",\n",
    "            \"data_hearts_dd_0p2_geo_inn_act_1_bcl\",\n",
    "            \"data_hearts_dd_0p2_geo_inn_act_1_bcl_I\",\n",
    "            \"data_hearts_dd_0p2_geo_inn_act_2_bcl\",\n",
    "            \"data_hearts_dd_0p2_geo_inn_act_2_bcl_I\",\n",
    "            \"data_hearts_dd_0p2_geo_inn_act_3_bcl\",\n",
    "            \"data_hearts_dd_0p2_geo_inn_act_3_bcl_I\",\n",
    "            ]"
   ]
  },
  {
   "cell_type": "markdown",
   "metadata": {},
   "source": [
    "---"
   ]
  },
  {
   "cell_type": "markdown",
   "metadata": {},
   "source": [
    "# data_Y_Task3"
   ]
  },
  {
   "cell_type": "markdown",
   "metadata": {},
   "source": [
    "### make dir"
   ]
  },
  {
   "cell_type": "code",
   "execution_count": null,
   "metadata": {},
   "outputs": [],
   "source": [
    "\"\"\"import os\n",
    "for cnt, dir_name in enumerate(dir_list):\n",
    "    os.makedirs(\"../VmData_Activation/{}\".format(dir_name), exist_ok=True)\"\"\""
   ]
  },
  {
   "cell_type": "markdown",
   "metadata": {},
   "source": [
    "### make VmData_Activation"
   ]
  },
  {
   "cell_type": "code",
   "execution_count": null,
   "metadata": {},
   "outputs": [],
   "source": [
    "import os\n",
    "for _, dir_name in enumerate(dir_list):\n",
    "    #-----------------\n",
    "    #list_file_name\n",
    "    list_file_name = os.listdir(\"../intracardiac_dataset/{}\".format(dir_name))\n",
    "    #-----------------\n",
    "    #processing\n",
    "    for _, file_name in enumerate(list_file_name):\n",
    "        #-----------------\n",
    "        #first_string\n",
    "        first_string = file_name.split(\"_\")[0]\n",
    "        #-----------------\n",
    "        #check file & processing\n",
    "        if first_string == \"VmData\":\n",
    "            #-----------------\n",
    "            #load data\n",
    "            ndarray_VmData_rawdata = np.load(\"../intracardiac_dataset/{0}/{1}\".format(dir_name,file_name))\n",
    "            #activation_time\n",
    "            ndarray_VmData_activation_time = get_activation_time(Vm=ndarray_VmData_rawdata)\n",
    "            #-----------------\n",
    "            #file_name_write\n",
    "            file_name_write = \"_\".join([str(elem) for elem in file_name.split(\"_\")[1:]])\n",
    "            #-----------------\n",
    "            #save\n",
    "            np.save(\"../data_Y_Task3/{0}\".format(file_name_write), ndarray_VmData_activation_time)"
   ]
  },
  {
   "cell_type": "markdown",
   "metadata": {},
   "source": [
    "### check"
   ]
  },
  {
   "cell_type": "code",
   "execution_count": 19,
   "metadata": {},
   "outputs": [
    {
     "name": "stdout",
     "output_type": "stream",
     "text": [
      "(75, 1)\n",
      "[[13]\n",
      " [20]\n",
      " [15]\n",
      " [ 6]\n",
      " [ 8]\n",
      " [ 3]\n",
      " [10]\n",
      " [ 6]\n",
      " [ 2]\n",
      " [10]\n",
      " [ 5]\n",
      " [ 2]\n",
      " [10]\n",
      " [ 6]\n",
      " [ 2]\n",
      " [ 4]\n",
      " [ 4]\n",
      " [ 8]\n",
      " [ 9]\n",
      " [ 5]\n",
      " [ 2]\n",
      " [ 9]\n",
      " [ 6]\n",
      " [ 2]\n",
      " [10]\n",
      " [ 6]\n",
      " [ 2]\n",
      " [ 5]\n",
      " [12]\n",
      " [ 6]\n",
      " [13]\n",
      " [ 8]\n",
      " [ 3]\n",
      " [ 6]\n",
      " [13]\n",
      " [ 6]\n",
      " [14]\n",
      " [ 9]\n",
      " [ 3]\n",
      " [13]\n",
      " [ 8]\n",
      " [ 3]\n",
      " [13]\n",
      " [ 8]\n",
      " [ 3]\n",
      " [11]\n",
      " [ 7]\n",
      " [ 2]\n",
      " [15]\n",
      " [ 3]\n",
      " [10]\n",
      " [ 9]\n",
      " [ 5]\n",
      " [ 2]\n",
      " [ 8]\n",
      " [ 5]\n",
      " [ 2]\n",
      " [12]\n",
      " [ 6]\n",
      " [ 5]\n",
      " [ 5]\n",
      " [10]\n",
      " [ 2]\n",
      " [ 5]\n",
      " [11]\n",
      " [ 5]\n",
      " [ 9]\n",
      " [ 5]\n",
      " [ 2]\n",
      " [12]\n",
      " [ 7]\n",
      " [ 3]\n",
      " [14]\n",
      " [ 9]\n",
      " [ 4]]\n"
     ]
    }
   ],
   "source": [
    "import pandas as pd\n",
    "import numpy as np\n",
    "#ndarray_VmData_Activation = np.load('../data_Y_Task3/hearts_dd_0p2_geo_act_1_bcl_bcl.600.pattern.0.volunteer.v1.npy')\n",
    "ndarray_VmData_Activation = np.load('../data_Y_Task3/hearts_dd_0p2_volunteer.v1_pattern.0.npy')\n",
    "print(ndarray_VmData_Activation.shape)\n",
    "print(ndarray_VmData_Activation)"
   ]
  },
  {
   "cell_type": "markdown",
   "metadata": {},
   "source": [
    "---"
   ]
  },
  {
   "cell_type": "markdown",
   "metadata": {},
   "source": [
    "# data_X, data_Y_Task4"
   ]
  },
  {
   "cell_type": "code",
   "execution_count": 21,
   "metadata": {},
   "outputs": [],
   "source": [
    "import shutil\n",
    "import os\n",
    "for _, dir_name in enumerate(dir_list):\n",
    "    #-----------------\n",
    "    #list_file_name\n",
    "    list_file_name = os.listdir(\"../intracardiac_dataset/{}\".format(dir_name))\n",
    "    #-----------------\n",
    "    #processingß\n",
    "    for _, file_name in enumerate(list_file_name):\n",
    "        #-----------------\n",
    "        #first_string\n",
    "        first_string = file_name.split(\"_\")[0]\n",
    "        #-----------------\n",
    "        #path_before\n",
    "        path_before = \"../intracardiac_dataset/{0}/{1}\".format(dir_name,file_name)\n",
    "        #-----------------\n",
    "        #check file & processing\n",
    "        if first_string == \"pECGData\":\n",
    "            #-----------------\n",
    "            #load data\n",
    "            ndarray_pECGData_rawdata = np.load(\"../intracardiac_dataset/{0}/{1}\".format(dir_name,file_name))\n",
    "            #-----------------\n",
    "            #ndarray_pECGData_std\n",
    "            ndarray_pECGData_std = get_standard_leads(pECGnumpy=ndarray_pECGData_rawdata)\n",
    "            #-----------------\n",
    "            #file_name_write\n",
    "            file_name_write = \"_\".join([str(elem) for elem in file_name.split(\"_\")[1:]])\n",
    "            #-----------------\n",
    "            #save\n",
    "            np.save(\"../data_X/{0}\".format(file_name_write), ndarray_pECGData_std)\n",
    "        elif first_string == \"VmData\":\n",
    "            file_name_write = \"_\".join([str(elem) for elem in file_name.split(\"_\")[1:]])\n",
    "            path_after = \"../data_Y_Task4/{}\".format(file_name_write)\n",
    "            shutil.copyfile(path_before, path_after)\n",
    "        elif first_string == \".bash\":\n",
    "            pass\n",
    "        else:\n",
    "            print(first_string)\n",
    "            raise ValueError(\"error!!!\")"
   ]
  },
  {
   "cell_type": "code",
   "execution_count": 22,
   "metadata": {},
   "outputs": [
    {
     "name": "stdout",
     "output_type": "stream",
     "text": [
      "(500, 12)\n",
      "[[ 6.88542450e-02  7.07487330e-02  1.89448800e-03 ...  1.91848489e-02\n",
      "   2.34811489e-02  2.49093939e-02]\n",
      " [ 1.29309706e-01  1.27802256e-01 -1.50745000e-03 ...  3.11466255e-02\n",
      "   4.30648895e-02  4.75615415e-02]\n",
      " [ 2.04173088e-01  1.90196902e-01 -1.39761860e-02 ...  3.03232624e-02\n",
      "   6.51849664e-02  7.71127564e-02]\n",
      " ...\n",
      " [ 5.51596882e-05  1.94104350e-05 -3.57492532e-05 ...  2.10809510e-04\n",
      "   1.26850691e-04  1.45161080e-04]\n",
      " [ 5.42432132e-05  1.95033560e-05 -3.47398572e-05 ...  2.08378000e-04\n",
      "   1.25679804e-04  1.43917270e-04]\n",
      " [ 5.33491153e-05  1.95972410e-05 -3.37518743e-05 ...  2.05981372e-04\n",
      "   1.24523858e-04  1.42687442e-04]]\n"
     ]
    }
   ],
   "source": [
    "ndarray_VmData_Activation = np.load('../data_X/hearts_dd_0p2_volunteer.v1_pattern.0.npy')\n",
    "print(ndarray_VmData_Activation.shape)\n",
    "print(ndarray_VmData_Activation)"
   ]
  },
  {
   "cell_type": "code",
   "execution_count": 23,
   "metadata": {},
   "outputs": [
    {
     "name": "stdout",
     "output_type": "stream",
     "text": [
      "(500, 75)\n",
      "[[-83.65121696 -83.65121696 -83.65121675 ... -83.65124312 -83.65146601\n",
      "  -83.63814729]\n",
      " [-84.22302333 -84.22302336 -84.22302272 ... -84.2230939  -84.22349755\n",
      "  -83.94712174]\n",
      " [-84.71842499 -84.71842509 -84.71842399 ... -84.71853949 -84.71909374\n",
      "  -82.52866495]\n",
      " ...\n",
      " [-85.88941953 -85.87619851 -85.88407233 ... -85.86352603 -85.86319632\n",
      "  -85.88101019]\n",
      " [-85.8914503  -85.87836196 -85.88615833 ... -85.86578232 -85.86537718\n",
      "  -85.88309172]\n",
      " [-85.89346077 -85.88050356 -85.88822338 ... -85.86801586 -85.86753771\n",
      "  -85.88515248]]\n"
     ]
    }
   ],
   "source": [
    "ndarray_VmData_Activation = np.load('../data_Y_Task4/hearts_dd_0p2_volunteer.v1_pattern.0.npy')\n",
    "print(ndarray_VmData_Activation.shape)\n",
    "print(ndarray_VmData_Activation)"
   ]
  },
  {
   "cell_type": "markdown",
   "metadata": {},
   "source": [
    "---"
   ]
  },
  {
   "cell_type": "markdown",
   "metadata": {},
   "source": [
    "### check # of data"
   ]
  },
  {
   "cell_type": "code",
   "execution_count": 25,
   "metadata": {},
   "outputs": [
    {
     "name": "stdout",
     "output_type": "stream",
     "text": [
      "16117\n",
      "16117\n",
      "16117\n"
     ]
    }
   ],
   "source": [
    "import os\n",
    "\n",
    "#-----------------\n",
    "#list_file_name\n",
    "list_file_name = os.listdir(\"../data_X\")\n",
    "print(len(list_file_name))\n",
    "\n",
    "#-----------------\n",
    "#list_file_name\n",
    "list_file_name = os.listdir(\"../data_Y_Task3\")\n",
    "print(len(list_file_name))\n",
    "\n",
    "\n",
    "#-----------------\n",
    "#list_file_name\n",
    "list_file_name = os.listdir(\"../data_Y_Task4\")\n",
    "print(len(list_file_name))"
   ]
  },
  {
   "cell_type": "code",
   "execution_count": null,
   "metadata": {},
   "outputs": [],
   "source": []
  }
 ],
 "metadata": {
  "kernelspec": {
   "display_name": "Python_Test",
   "language": "python",
   "name": "python3"
  },
  "language_info": {
   "codemirror_mode": {
    "name": "ipython",
    "version": 3
   },
   "file_extension": ".py",
   "mimetype": "text/x-python",
   "name": "python",
   "nbconvert_exporter": "python",
   "pygments_lexer": "ipython3",
   "version": "3.11.5"
  }
 },
 "nbformat": 4,
 "nbformat_minor": 2
}
