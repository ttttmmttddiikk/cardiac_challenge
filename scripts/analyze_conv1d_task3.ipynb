{
 "cells": [
  {
   "cell_type": "code",
   "execution_count": null,
   "metadata": {},
   "outputs": [],
   "source": [
    "import numpy as np\n",
    "import pandas as pd\n",
    "import matplotlib.pyplot as plt"
   ]
  },
  {
   "cell_type": "code",
   "execution_count": null,
   "metadata": {},
   "outputs": [],
   "source": [
    "import torch\n",
    "import torch.nn as nn\n",
    "from torchvision import models"
   ]
  },
  {
   "cell_type": "code",
   "execution_count": null,
   "metadata": {},
   "outputs": [],
   "source": [
    "%run func_DL.py"
   ]
  },
  {
   "cell_type": "code",
   "execution_count": null,
   "metadata": {},
   "outputs": [],
   "source": [
    "print(torch.cuda.is_available())"
   ]
  },
  {
   "cell_type": "markdown",
   "metadata": {},
   "source": [
    "---"
   ]
  },
  {
   "cell_type": "markdown",
   "metadata": {},
   "source": [
    "### model"
   ]
  },
  {
   "cell_type": "code",
   "execution_count": null,
   "metadata": {},
   "outputs": [],
   "source": [
    "class model_task3(nn.Module):\n",
    "    def __init__(self, in_channels, in_length, out_channels, out_length, batch_size):\n",
    "        super().__init__()\n",
    "        #-----------------------------------\n",
    "        #var\n",
    "        self.in_channels = in_channels\n",
    "        self.in_length = in_length\n",
    "        self.out_channels = out_channels\n",
    "        self.out_length = out_length\n",
    "        self.batch_size = batch_size\n",
    "        #-----------------------------------\n",
    "        #Conv1d\n",
    "        #https://pytorch.org/docs/stable/generated/torch.nn.Conv1d.html\n",
    "        #https://github.com/vdumoulin/conv_arithmetic/blob/master/README.md\n",
    "        #conv1d_0\n",
    "        kernel_size_conv1d_0=100; stride_conv1d_0=5; padding_conv1d_0=1; dilation_conv1d_0=1; \n",
    "        self.in_channels_conv1d_0 = self.in_channels; self.in_length_conv1d_0 = self.in_length\n",
    "        self.out_channels_conv1d_0= 50; self.out_length_conv1d_0 = int((self.in_length_conv1d_0+2*padding_conv1d_0-dilation_conv1d_0*(kernel_size_conv1d_0-1)-1)/stride_conv1d_0+1)\n",
    "        #conv1d_1\n",
    "        kernel_size_conv1d_1=50; stride_conv1d_1=3; padding_conv1d_1=1; dilation_conv1d_1=1; \n",
    "        self.in_channels_conv1d_1 = self.out_channels_conv1d_0; self.in_length_conv1d_1 = self.out_length_conv1d_0\n",
    "        self.out_channels_conv1d_1= 30; self.out_length_conv1d_1= int((self.in_length_conv1d_1+2*padding_conv1d_1-dilation_conv1d_1*(kernel_size_conv1d_1-1)-1)/stride_conv1d_1+1)\n",
    "        #conv1d_2\n",
    "        kernel_size_conv1d_2=3; stride_conv1d_2=1; padding_conv1d_2=1; dilation_conv1d_2=1; \n",
    "        self.in_channels_conv1d_2 = self.out_channels_conv1d_1; self.in_length_conv1d_2 = self.out_length_conv1d_1\n",
    "        self.out_channels_conv1d_2= 10; self.out_length_conv1d_2= int((self.in_length_conv1d_2+2*padding_conv1d_2-dilation_conv1d_2*(kernel_size_conv1d_2-1)-1)/stride_conv1d_2+1)\n",
    "        #-----------------------------------\n",
    "        #DNN\n",
    "        self.in_channels_DNN = self.out_channels_conv1d_2*self.out_length_conv1d_2\n",
    "        self.inner_channels_DNN = 30\n",
    "        self.out_channels_DNN = self.out_channels*self.out_length\n",
    "\n",
    "        #-----------------------------------\n",
    "        #layer0\n",
    "        self.layer0 = nn.Sequential(\n",
    "            #-----------------------------------\n",
    "            #conv1d_0\n",
    "            nn.Conv1d(in_channels=self.in_channels_conv1d_0, out_channels=self.out_channels_conv1d_0, kernel_size=kernel_size_conv1d_0, stride=stride_conv1d_0, padding=padding_conv1d_0, dilation=dilation_conv1d_0),\n",
    "            nn.BatchNorm1d(num_features=self.out_channels_conv1d_0),\n",
    "            nn.ReLU(),\n",
    "            #nn.Sigmoid(),\n",
    "            #nn.LeakyReLU(0.2, inplace=True),\n",
    "            #-----------------------------------\n",
    "            #conv1d_1\n",
    "            #nn.Dropout(p=0.2),\n",
    "            nn.Conv1d(in_channels=self.in_channels_conv1d_1, out_channels=self.out_channels_conv1d_1, kernel_size=kernel_size_conv1d_1, stride=stride_conv1d_1, padding=padding_conv1d_1, dilation=dilation_conv1d_1),\n",
    "            nn.BatchNorm1d(num_features=self.out_channels_conv1d_1),\n",
    "            nn.ReLU(),\n",
    "            #nn.Sigmoid(),\n",
    "            #nn.LeakyReLU(0.2, inplace=True),\n",
    "            #-----------------------------------\n",
    "            #conv1d_2\n",
    "            nn.Conv1d(in_channels=self.in_channels_conv1d_2, out_channels=self.out_channels_conv1d_2, kernel_size=kernel_size_conv1d_2, stride=stride_conv1d_2, padding=padding_conv1d_2, dilation=dilation_conv1d_2),\n",
    "            nn.BatchNorm1d(num_features=self.out_channels_conv1d_2),\n",
    "            nn.ReLU(),\n",
    "            #nn.Sigmoid(),\n",
    "            #nn.LeakyReLU(0.2, inplace=True),\n",
    "        )\n",
    "        #-----------------------------------\n",
    "        #layer1\n",
    "        self.layer1 = nn.Sequential(\n",
    "            #-----------------------------------\n",
    "            nn.Linear(self.in_channels_DNN, self.inner_channels_DNN),\n",
    "            nn.BatchNorm1d(num_features=self.inner_channels_DNN),\n",
    "            #nn.ReLU(),\n",
    "            #nn.LeakyReLU(0.2, inplace=True),\n",
    "            #nn.Sigmoid(),\n",
    "            #-----------------------------------\n",
    "            #nn.Dropout(p=0.2),\n",
    "            #nn.Linear(self.inner_channels_DNN, self.inner_channels_DNN),\n",
    "            #nn.ReLU(),\n",
    "            #nn.LeakyReLU(0.2, inplace=True),\n",
    "            #nn.Sigmoid(),\n",
    "            #-----------------------------------\n",
    "            nn.Linear(self.inner_channels_DNN, self.out_channels_DNN),\n",
    "            #nn.ReLU(),\n",
    "            nn.Sigmoid(),            \n",
    "        )\n",
    "\n",
    "\n",
    "    def forward(self, x):    \n",
    "        output0 = self.layer0(x).view(-1, self.in_channels_DNN)\n",
    "        output1 = self.layer1(output0).view(-1, self.out_channels, self.out_length)\n",
    "        return output1"
   ]
  },
  {
   "cell_type": "code",
   "execution_count": null,
   "metadata": {},
   "outputs": [],
   "source": [
    "\"\"\"class model_1(nn.Module):\n",
    "    def __init__(self, in_channels, in_length, out_channels, out_length, batch_size):\n",
    "        super().__init__()\n",
    "        #-----------------------------------\n",
    "        #var\n",
    "        self.in_channels = in_channels\n",
    "        self.in_length = in_length\n",
    "        self.out_channels = out_channels\n",
    "        self.out_length = out_length\n",
    "        self.batch_size = batch_size\n",
    "        #-----------------------------------\n",
    "        #Conv1d\n",
    "        #https://pytorch.org/docs/stable/generated/torch.nn.Conv1d.html\n",
    "        #https://github.com/vdumoulin/conv_arithmetic/blob/master/README.md\n",
    "        self.in_channels_inner_0 = self.in_channels; self.in_length_inner_0 = self.in_length\n",
    "        kernel_size=200; stride=50; padding=1; dilation=1; \n",
    "        self.out_channels_inner_0 = 30; self.out_length_inner_0 = int((self.in_length_inner_0+2*padding-dilation*(kernel_size-1)-1)/stride+1)\n",
    "        self.conv1d = nn.Conv1d(in_channels=self.in_channels_inner_0, out_channels=self.out_channels_inner_0, kernel_size=kernel_size, stride=stride, padding=padding, dilation=dilation)\n",
    "        #-----------------------------------\n",
    "        #DNN\n",
    "        self.in_channels_inner_1 = self.out_channels_inner_0*self.out_length_inner_0\n",
    "        self.out_channels_inner_1 = self.out_channels*self.out_length\n",
    "\n",
    "        #-----------------------------------\n",
    "        #layer0\n",
    "        self.layer0 = nn.Sequential(\n",
    "            #-----------------------------------\n",
    "            nn.Conv1d(in_channels=self.in_channels_inner_0, out_channels=self.out_channels_inner_0, kernel_size=kernel_size, stride=stride, padding=padding, dilation=dilation),\n",
    "            nn.ReLU(),\n",
    "            #nn.LeakyReLU(0.2, inplace=True),\n",
    "            nn.BatchNorm1d(num_features=self.out_channels_inner_0),\n",
    "        )\n",
    "        #-----------------------------------\n",
    "        #layer1\n",
    "        self.layer1 = nn.Sequential(\n",
    "            #-----------------------------------\n",
    "            nn.Linear(self.in_channels_inner_1, self.out_channels_inner_1),\n",
    "            #nn.ReLU(),\n",
    "            #nn.Sigmoid(),\n",
    "        )\n",
    "\n",
    "    def forward(self, x):\n",
    "        #for i in range(5):\n",
    "        output0 = self.layer0(x).view(-1, self.in_channels_inner_1)\n",
    "        output1 = self.layer1(output0).view(-1, self.out_channels, self.out_length)\n",
    "        return output1\"\"\""
   ]
  },
  {
   "cell_type": "code",
   "execution_count": null,
   "metadata": {},
   "outputs": [],
   "source": [
    "\"\"\"class model_2(nn.Module):\n",
    "    def __init__(self, in_channels, in_length, out_channels, out_length, batch_size):\n",
    "        super().__init__()\n",
    "        #-----------------------------------\n",
    "        #var\n",
    "        self.in_channels = in_channels\n",
    "        self.in_length = in_length\n",
    "        self.out_channels = out_channels\n",
    "        self.out_length = out_length\n",
    "        self.batch_size = batch_size\n",
    "        #-----------------------------------\n",
    "        #DNN\n",
    "        self.in_channels_inner_1 = self.in_channels*self.in_length\n",
    "        self.out_channels_inner_1 = 30\n",
    "        #-----------------------------------\n",
    "        #DNN\n",
    "        self.in_channels_inner_2 = self.out_channels_inner_1\n",
    "        self.out_channels_inner_2 = self.out_channels*self.out_length\n",
    "        #-----------------------------------\n",
    "        #layer1\n",
    "        self.layer1 = nn.Sequential(\n",
    "            #-----------------------------------\n",
    "            nn.BatchNorm1d(num_features=self.in_channels_inner_1),\n",
    "            nn.Linear(self.in_channels_inner_1, self.out_channels_inner_1),\n",
    "            nn.ReLU(),\n",
    "            nn.Sigmoid(),\n",
    "        )\n",
    "        #-----------------------------------\n",
    "        #layer2\n",
    "        self.layer2 = nn.Sequential(\n",
    "            #-----------------------------------\n",
    "            nn.BatchNorm1d(num_features=self.in_channels_inner_2),\n",
    "            nn.Linear(self.in_channels_inner_2, self.out_channels_inner_2),\n",
    "            nn.ReLU(),\n",
    "            nn.Sigmoid(),\n",
    "        )\n",
    "\n",
    "    def forward(self, x):\n",
    "        x = x.view(-1, self.in_channels_inner_1)\n",
    "        output1 = self.layer1(x)\n",
    "        output2 = self.layer2(output1)\n",
    "        output2 = output2.view(-1, self.out_channels, self.out_length)\n",
    "        return output2\"\"\""
   ]
  },
  {
   "cell_type": "markdown",
   "metadata": {},
   "source": [
    "### dataset"
   ]
  },
  {
   "cell_type": "code",
   "execution_count": null,
   "metadata": {},
   "outputs": [],
   "source": [
    "from torch.utils.data import Dataset, DataLoader\n",
    "\n",
    "#---------------------------------------------\n",
    "#var\n",
    "path_dir_X = \"../data_X\"\n",
    "path_dir_Y = \"../data_Y_Task3\"\n",
    "n_test = 100\n",
    "n_val = 100\n",
    "batch_size = 5000\n",
    "\n",
    "#---------------------------------------------\n",
    "#instance\n",
    "dataset = CustomDataset(path_dir_X=path_dir_X, path_dir_Y=path_dir_Y, n_test=n_test, n_val=n_val, batch_size=batch_size)\n",
    "dataloder = DataLoader(dataset, batch_size=batch_size, shuffle=True)"
   ]
  },
  {
   "cell_type": "markdown",
   "metadata": {},
   "source": [
    "### var, init"
   ]
  },
  {
   "cell_type": "code",
   "execution_count": null,
   "metadata": {},
   "outputs": [],
   "source": [
    "#----------------------------\n",
    "#var (condition)\n",
    "device = torch.device(\"cuda:0\" if torch.cuda.is_available() else \"cpu\")\n",
    "#----------------------------\n",
    "#var (train)\n",
    "num_epochs = 1000\n",
    "n_print_train_result = 1\n",
    "val_flag = True\n",
    "\n",
    "#----------------------------\n",
    "#init (model)\n",
    "in_channels = dataset.return_shape_X()[0]\n",
    "in_length = dataset.return_shape_X()[1]\n",
    "out_channels = dataset.return_shape_Y()[0]\n",
    "out_length = dataset.return_shape_Y()[1]\n",
    "model = model_task3(in_channels, in_length, out_channels, out_length, batch_size).to(device)\n",
    "#init model weight\n",
    "model.apply(init_normal_dist)\n",
    "#----------------------------\n",
    "#init (optimizer, scheduler)\n",
    "optimizer = torch.optim.Adam(model.parameters(), lr=0.01)\n",
    "scheduler = torch.optim.lr_scheduler.MultiStepLR(optimizer, milestones=[10,50,100,300,500], gamma=0.9)\n",
    "#----------------------------\n",
    "#init (loss_func)\n",
    "#https://neptune.ai/blog/pytorch-loss-functions\n",
    "loss_func = nn.MSELoss()\n",
    "#loss_func = nn.L1Loss()"
   ]
  },
  {
   "cell_type": "markdown",
   "metadata": {},
   "source": [
    "### train"
   ]
  },
  {
   "cell_type": "code",
   "execution_count": null,
   "metadata": {},
   "outputs": [],
   "source": [
    "#----------------------------\n",
    "#results\n",
    "history = {\"train_loss\": [], \"val_loss\": []}\n",
    "\n",
    "#----------------------------\n",
    "#学習\n",
    "for epoch in range(num_epochs):\n",
    "  #----------------------------\n",
    "  # train\n",
    "  model.train()\n",
    "  for i, (x, y) in enumerate(dataloder):\n",
    "    #----------------------------\n",
    "    #float32, grad==True\n",
    "    x = dataset.change_data_setting_to_train(x)\n",
    "    y = dataset.change_data_setting_to_train(y)\n",
    "    #----------------------------\n",
    "    #change the type\n",
    "    x = x.to(device)\n",
    "    y = y.to(device)\n",
    "    #----------------------------\n",
    "    #forward\n",
    "    output = model(x)\n",
    "    loss = loss_func(output, y)\n",
    "    #----------------------------\n",
    "    #backward\n",
    "    optimizer.zero_grad()\n",
    "    loss.backward()\n",
    "    optimizer.step()\n",
    "    #----------------------------\n",
    "    #print & result\n",
    "    if (i+1) % n_print_train_result == 0:\n",
    "      print(f'Epoch: {epoch+1}, iter: {i+1}, train_loss: {loss: 0.4f}')\n",
    "      print(x.grad.mean())\n",
    "  history[\"train_loss\"].append(loss)\n",
    "\n",
    "  #----------------------------\n",
    "  # eval\n",
    "  if val_flag == True:\n",
    "    model.eval()\n",
    "    with torch.no_grad():\n",
    "      #----------------------------\n",
    "      #forward\n",
    "      x, y = dataset.return_val_data()\n",
    "      #----------------------------\n",
    "      #float32, grad==True\n",
    "      x = dataset.change_data_setting_to_train(x)\n",
    "      y = dataset.change_data_setting_to_train(y)\n",
    "      #----------------------------\n",
    "      #change the type\n",
    "      x = x.to(device)\n",
    "      y = y.to(device)\n",
    "      #----------------------------\n",
    "      #forward\n",
    "      output = model(x)\n",
    "      loss = loss_func(output, y)\n",
    "      #----------------------------\n",
    "      #print & result\n",
    "      history[\"val_loss\"].append(loss)\n",
    "      print(f'Epoch: {epoch+1}, val_loss: {loss: 0.4f}')\n",
    "  \n",
    "  #----------------------------\n",
    "  # scheduler\n",
    "  scheduler.step()"
   ]
  },
  {
   "cell_type": "markdown",
   "metadata": {},
   "source": [
    "### result_train"
   ]
  },
  {
   "cell_type": "code",
   "execution_count": 32,
   "metadata": {},
   "outputs": [
    {
     "data": {
      "image/png": "[encoded data removed]",
      "text/plain": [
       "<Figure size 1200x700 with 1 Axes>"
      ]
     },
     "metadata": {},
     "output_type": "display_data"
    }
   ],
   "source": [
    "#----------------------------\n",
    "#make data (train)\n",
    "train_loss_tensor = torch.stack(history[\"train_loss\"])\n",
    "train_loss_np = train_loss_tensor.to('cpu').detach().numpy().copy()\n",
    "#----------------------------\n",
    "#make data (val)\n",
    "val_loss_tensor = torch.stack(history[\"val_loss\"])\n",
    "val_loss_np = val_loss_tensor.to('cpu').detach().numpy().copy()\n",
    "\n",
    "#----------------------------\n",
    "#plot\n",
    "fig = plt.figure(figsize=(12,7))\n",
    "ax = fig.add_subplot(1,1,1)\n",
    "ax.plot(train_loss_np, color=\"black\",label=\"Train\")\n",
    "ax.plot(val_loss_np, color=\"maroon\",label=\"Validation\")\n",
    "#plot (setting)\n",
    "ax.tick_params(labelsize=20)\n",
    "ax.set_xlabel(\"Epoch\", fontsize=30)\n",
    "ax.set_ylabel(\"MSE\", fontsize=30)\n",
    "ax.legend(fontsize=25, frameon=False)\n",
    "ax.set_ylim(0,0.05)\n",
    "plt.show()"
   ]
  },
  {
   "cell_type": "markdown",
   "metadata": {},
   "source": [
    "### result_test"
   ]
  },
  {
   "cell_type": "code",
   "execution_count": 28,
   "metadata": {},
   "outputs": [
    {
     "name": "stdout",
     "output_type": "stream",
     "text": [
      "MSE:  0.0009638598\n",
      "R2:  0.6785004138946533\n"
     ]
    }
   ],
   "source": [
    "from sklearn.metrics import r2_score, mean_squared_error\n",
    "\n",
    "#----------------------------\n",
    "# eval\n",
    "model.eval()\n",
    "with torch.no_grad():\n",
    "    #----------------------------\n",
    "    #forward\n",
    "    x, y = dataset.return_test_data()\n",
    "    #----------------------------\n",
    "    #float32, grad==True\n",
    "    x = dataset.change_data_setting_to_train(x)\n",
    "    y = dataset.change_data_setting_to_train(y)\n",
    "    #----------------------------\n",
    "    #change the type\n",
    "    x = x.to(device)\n",
    "    y = y.to(device)\n",
    "    #----------------------------\n",
    "    #forward\n",
    "    output = model(x)\n",
    "    #----------------------------\n",
    "    #change to numpy\n",
    "    output = output.to('cpu').detach().numpy().copy().flatten()\n",
    "    y = y.to('cpu').detach().numpy().copy().flatten()\n",
    "    loss_MSE = mean_squared_error(output, y)\n",
    "    loss_R2 = r2_score(output, y)\n",
    "    #----------------------------\n",
    "    #print loss\n",
    "    print(\"MSE: \", loss_MSE)  \n",
    "    print(\"R2: \", loss_R2)"
   ]
  },
  {
   "cell_type": "markdown",
   "metadata": {},
   "source": [
    "### plot_test (true/pred)"
   ]
  },
  {
   "cell_type": "code",
   "execution_count": 35,
   "metadata": {},
   "outputs": [],
   "source": [
    "from sklearn.metrics import r2_score # スコア計算\n",
    "from sklearn.metrics import mean_absolute_error # スコア計算 (MAE)\n",
    "from sklearn.metrics import mean_squared_error # スコア計算 (MSE)\n",
    "#----------------\n",
    "def plot_true_predict_from_y(y_predict_list:pd.DataFrame, y_true_list:pd.DataFrame,\n",
    "                            title:str, path_save=False) -> None:\n",
    "    #----------------\n",
    "    #calc score\n",
    "    r = np.corrcoef(y_true_list, y_predict_list)[0][1]\n",
    "    R2 = r2_score(y_true=y_true_list, y_pred=y_predict_list) # 決定係数(R2) #https://bellcurve.jp/statistics/course/9706.html\n",
    "    MAE = mean_absolute_error(y_true=y_true_list, y_pred=y_predict_list) # 平均絶対誤差(MAE)\n",
    "    RMSE = np.sqrt(mean_squared_error(y_true=y_true_list, y_pred=y_predict_list)) # 二乗平均平方根誤差(RMSE)\n",
    "    \n",
    "    #----------------\n",
    "    #fig, ax\n",
    "    fig = plt.figure(figsize=(10, 10))\n",
    "    ax = fig.add_subplot(1,1,1)\n",
    "    #----------------\n",
    "    #plot scatter\n",
    "    #ax.scatter(x=y_predict_list, y=y_true_list, s=40, c=\"black\", marker=\"o\", zorder=10)\n",
    "    ax.plot(y_predict_list, y_true_list, c=\"black\", marker='.', linestyle=\"\", ms=5, zorder=10)\n",
    "    #----------------\n",
    "    #plot 直線\n",
    "    x=np.linspace( min(min(y_true_list),min(y_predict_list)), max(max(y_true_list),max(y_predict_list)), 10) #listの足し算は結合\n",
    "    y=x\n",
    "    ax.plot(x, y, color = \"black\")\n",
    "    #----------------\n",
    "    #plot text\n",
    "    plt.text(x=0.5, y=0.94, \n",
    "             s=\"$r$={0}, $R^2$={1}, $MAE$={2}, $RMSE$={3}\".format(\"{:.2f}\".format(r),\n",
    "                                                                 \"{:.2f}\".format(R2),\n",
    "                                                                \"{:.2f}\".format(MAE),\n",
    "                                                                \"{:.2f}\".format(RMSE)), \n",
    "             fontdict=dict(fontsize=25, color=\"black\"), ha='center', transform=ax.transAxes,\n",
    "             zorder=20)\n",
    "    #----------------\n",
    "    #setting\n",
    "    ax.tick_params(labelsize = 20)#軸の大きさ\n",
    "    ax.set_xlabel(\"True\",fontsize=30)\n",
    "    ax.set_ylabel(\"Predict\",fontsize=30)\n",
    "    plt.title(\"{0}\".format(title), fontsize=30)\n",
    "    #----------------\n",
    "    #save\n",
    "    if path_save != False:\n",
    "        plt.savefig(path_save, bbox_inches='tight')\n",
    "    #----------------\n",
    "    #show\n",
    "    plt.show()"
   ]
  },
  {
   "cell_type": "code",
   "execution_count": 36,
   "metadata": {},
   "outputs": [
    {
     "data": {
      "image/png": "[encoded data removed]",
      "text/plain": [
       "<Figure size 1000x1000 with 1 Axes>"
      ]
     },
     "metadata": {},
     "output_type": "display_data"
    }
   ],
   "source": [
    "#----------------------------\n",
    "# eval\n",
    "model.eval()\n",
    "with torch.no_grad():\n",
    "    #----------------------------\n",
    "    #forward\n",
    "    x, y = dataset.return_test_data()\n",
    "    #----------------------------\n",
    "    #float32, grad==True\n",
    "    x = dataset.change_data_setting_to_train(x)\n",
    "    y = dataset.change_data_setting_to_train(y)\n",
    "    #----------------------------\n",
    "    #change the type\n",
    "    x = x.to(device)\n",
    "    y = y.to(device)\n",
    "    #----------------------------\n",
    "    #forward\n",
    "    output = model(x)\n",
    "    #----------------------------\n",
    "    #change to numpy\n",
    "    output = output.to('cpu').detach().numpy().copy().flatten()\n",
    "    y = y.to('cpu').detach().numpy().copy().flatten()\n",
    "    #----------------------------\n",
    "    #plot\n",
    "    plot_true_predict_from_y(y_predict_list=output, y_true_list=y, title=\"\", path_save=False) "
   ]
  },
  {
   "cell_type": "markdown",
   "metadata": {},
   "source": [
    "### plot_test (sample)"
   ]
  },
  {
   "cell_type": "code",
   "execution_count": null,
   "metadata": {},
   "outputs": [],
   "source": [
    "#def plot_VmDatas_Task3(VmData):"
   ]
  },
  {
   "cell_type": "code",
   "execution_count": null,
   "metadata": {},
   "outputs": [],
   "source": [
    "\"\"\"from sklearn.metrics import r2_score, mean_squared_error\n",
    "\n",
    "#----------------------------\n",
    "# eval\n",
    "model.eval()\n",
    "with torch.no_grad():\n",
    "    #----------------------------\n",
    "    #forward\n",
    "    x, y = dataset.return_test_data()\n",
    "    #----------------------------\n",
    "    #float32, grad==True\n",
    "    x = dataset.change_data_setting_to_train(x)\n",
    "    y = dataset.change_data_setting_to_train(y)\n",
    "    #----------------------------\n",
    "    #change the type\n",
    "    x = x.to(device)\n",
    "    y = y.to(device)\n",
    "    #----------------------------\n",
    "    #forward\n",
    "    output = model(x)\n",
    "    #----------------------------\n",
    "    #change to numpy\n",
    "    output = output.to('cpu').detach().numpy().copy().T * 500\n",
    "    y = y.to('cpu').detach().numpy().copy().T * 500\n",
    "    #----------------------------\n",
    "    #plot\n",
    "    for cnt, (data_true, data_pred) in enumerate(zip(y, output)):\n",
    "        plot_VmDatas_Task4(data_true)\"\"\""
   ]
  },
  {
   "cell_type": "markdown",
   "metadata": {},
   "source": [
    "---"
   ]
  },
  {
   "cell_type": "markdown",
   "metadata": {},
   "source": [
    "# Test (CustomDataset)"
   ]
  },
  {
   "cell_type": "code",
   "execution_count": null,
   "metadata": {},
   "outputs": [],
   "source": [
    "import os, random\n",
    "from torch.utils.data import Dataset, DataLoader\n",
    "from typing import Union\n",
    "\n",
    "#---------------------------------------------\n",
    "# custom dataset\n",
    "#https://discuss.pytorch.org/t/custom-data-loader-for-big-data/129361\n",
    "class CustomDataset(Dataset):\n",
    "    def __init__(self, path_dir_X:str, path_dir_Y:str, n_test:Union[int,float], n_val:Union[int,float], batch_size:int): # n_test -> float:ratio of test, int:number of test\n",
    "        #-----------------\n",
    "        # batch_size\n",
    "        self.batch_size = batch_size\n",
    "        # path_dir_X, path_dir_Y\n",
    "        self.path_dir_X = path_dir_X\n",
    "        self.path_dir_Y = path_dir_Y\n",
    "        # list_file_name_all\n",
    "        self.list_file_name_all = os.listdir(path_dir_X)\n",
    "        # n_data_all\n",
    "        self.n_data_all = len(self.list_file_name_all)\n",
    "        #check\n",
    "        if len(os.listdir(path_dir_X)) != len(os.listdir(path_dir_Y)):\n",
    "            raise ValueError(\"error!!!\")\n",
    "        if len(set(os.listdir(path_dir_X)) - set(os.listdir(path_dir_Y))) != 0:\n",
    "            raise ValueError(\"error!!!\")\n",
    "        #-----------------\n",
    "        # suffle\n",
    "        random.shuffle(self.list_file_name_all)\n",
    "        #-----------------\n",
    "        # n_test\n",
    "        if type(n_test)==int:\n",
    "            self.n_test = n_test\n",
    "        elif type(n_test)==float:\n",
    "            self.n_test = int(len(self.list_file_name_all)*n_test)\n",
    "        else:\n",
    "            raise ValueError(\"error!!!\")\n",
    "        # n_val\n",
    "        if type(n_val)==int:\n",
    "            self.n_val = n_val\n",
    "        elif type(n_val)==float:\n",
    "            self.n_val = int(len(self.list_file_name_all)*n_val)\n",
    "        else:\n",
    "            raise ValueError(\"error!!!\")\n",
    "        #check\n",
    "        if self.n_data_all <= self.n_test+self.n_val:\n",
    "            raise ValueError(\"error!!!\")\n",
    "        #-----------------\n",
    "        # list_file_name_test / _val / _train\n",
    "        self.list_file_name_test = self.list_file_name_all[:self.n_test]\n",
    "        self.list_file_name_val = self.list_file_name_all[self.n_test:self.n_test+self.n_val]\n",
    "        self.list_file_name_train = self.list_file_name_all[self.n_test+self.n_val:]\n",
    "        \n",
    "    def __len__(self):\n",
    "        return len(self.list_file_name_train)\n",
    "    \n",
    "    def __getitem__(self, x):\n",
    "        return self.getdata(list_file_name=self.list_file_name_train, index=x)\n",
    "    \n",
    "    def getdata(self, list_file_name, index):\n",
    "        #file_name\n",
    "        file_name = list_file_name[index]\n",
    "        #data_X\n",
    "        path_file_X = \"{0}/{1}\".format(self.path_dir_X, file_name)\n",
    "        data_X = np.load(path_file_X, allow_pickle=True)\n",
    "        data_X = torch.from_numpy(data_X).to(torch.float32)\n",
    "        #data_Y\n",
    "        path_file_Y = \"{0}/{1}\".format(self.path_dir_Y, file_name)\n",
    "        data_Y = np.load(path_file_Y, allow_pickle=True)\n",
    "        data_Y = torch.from_numpy(data_Y).to(torch.float32)\n",
    "        #return\n",
    "        return data_X, data_Y\n",
    "    \n",
    "    def return_n_data_all(self):\n",
    "        return self.n_data_all\n",
    "    \n",
    "    def return_n_test(self):\n",
    "        return self.n_test\n",
    "    \n",
    "    def return_n_val(self):\n",
    "        return self.n_val\n",
    "    \n",
    "    def return_n_train(self):\n",
    "        return self.n_data_all - self.n_val - self.n_test\n",
    "    \n",
    "    def return_batch_size(self):\n",
    "        return self.batch_size\n",
    "    \n",
    "    def return_shape_X(self):\n",
    "        data_sample = self.getdata(self.list_file_name_all, 0)[0]\n",
    "        return data_sample.shape\n",
    "    \n",
    "    def return_shape_Y(self):\n",
    "        data_sample = self.getdata(self.list_file_name_all, 0)[1]\n",
    "        return data_sample.shape\n",
    "    \n",
    "    def return_test_data(self):\n",
    "        #https://www.tutorialspoint.com/how-to-join-tensors-in-pytorch\n",
    "        data_X_test = torch.stack([self.getdata(self.list_file_name_test, i)[0] for i in range(self.n_test)])\n",
    "        data_Y_test = torch.stack([self.getdata(self.list_file_name_test, i)[1] for i in range(self.n_test)])\n",
    "        return data_X_test, data_Y_test\n",
    "    \n",
    "    def return_val_data(self):\n",
    "        #https://www.tutorialspoint.com/how-to-join-tensors-in-pytorch\n",
    "        data_X_val = torch.stack([self.getdata(self.list_file_name_val, i)[0] for i in range(self.n_val)])\n",
    "        data_Y_val = torch.stack([self.getdata(self.list_file_name_val, i)[1] for i in range(self.n_val)])\n",
    "        return data_X_val, data_Y_val\n",
    "\n",
    "\n",
    "#---------------------------------------------\n",
    "#var\n",
    "path_dir_X = \"../data_X\"\n",
    "path_dir_Y = \"../data_Y_Task3\"\n",
    "n_test = 100\n",
    "n_val = 100\n",
    "batch_size = 10000\n",
    "\n",
    "#---------------------------------------------\n",
    "#instance\n",
    "dataset = CustomDataset(path_dir_X=path_dir_X, path_dir_Y=path_dir_Y, n_test=n_test, n_val=n_val, batch_size=batch_size)\n",
    "dataloder = DataLoader(dataset, batch_size=batch_size, shuffle=True)"
   ]
  },
  {
   "cell_type": "code",
   "execution_count": null,
   "metadata": {},
   "outputs": [],
   "source": [
    "for i, (data_X, data_Y) in enumerate(dataloder):\n",
    "   # print(data_X.shape, data_Y.shape)\n",
    "   print(data_Y)"
   ]
  },
  {
   "cell_type": "code",
   "execution_count": null,
   "metadata": {},
   "outputs": [],
   "source": [
    "dataset.return_n_data_all()"
   ]
  },
  {
   "cell_type": "code",
   "execution_count": null,
   "metadata": {},
   "outputs": [],
   "source": [
    "dataset.return_n_test()"
   ]
  },
  {
   "cell_type": "code",
   "execution_count": null,
   "metadata": {},
   "outputs": [],
   "source": [
    "dataset.return_n_val()"
   ]
  },
  {
   "cell_type": "code",
   "execution_count": null,
   "metadata": {},
   "outputs": [],
   "source": [
    "dataset.return_val_data()[1].shape"
   ]
  },
  {
   "cell_type": "code",
   "execution_count": null,
   "metadata": {},
   "outputs": [],
   "source": [
    "dataset.return_test_data()[1].shape"
   ]
  },
  {
   "cell_type": "code",
   "execution_count": null,
   "metadata": {},
   "outputs": [],
   "source": [
    "x,y = dataset.return_val_data()"
   ]
  },
  {
   "cell_type": "markdown",
   "metadata": {},
   "source": [
    "---"
   ]
  },
  {
   "cell_type": "markdown",
   "metadata": {},
   "source": [
    "# Test (model)"
   ]
  },
  {
   "cell_type": "code",
   "execution_count": null,
   "metadata": {},
   "outputs": [],
   "source": [
    "class UNet(nn.Module):\n",
    "    def __init__(self, n_class):\n",
    "        super().__init__()\n",
    "        \n",
    "        # Encoder\n",
    "        # In the encoder, convolutional layers with the Conv2d function are used to extract features from the input image. \n",
    "        # Each block in the encoder consists of two convolutional layers followed by a max-pooling layer, with the exception of the last block which does not include a max-pooling layer.\n",
    "        # -------\n",
    "        # input: 572x572x3\n",
    "        self.e11 = nn.Conv2d(3, 64, kernel_size=3, padding=1) # output: 570x570x64\n",
    "        self.e12 = nn.Conv2d(64, 64, kernel_size=3, padding=1) # output: 568x568x64\n",
    "        self.pool1 = nn.MaxPool2d(kernel_size=2, stride=2) # output: 284x284x64\n",
    "\n",
    "        # input: 284x284x64\n",
    "        self.e21 = nn.Conv2d(64, 128, kernel_size=3, padding=1) # output: 282x282x128\n",
    "        self.e22 = nn.Conv2d(128, 128, kernel_size=3, padding=1) # output: 280x280x128\n",
    "        self.pool2 = nn.MaxPool2d(kernel_size=2, stride=2) # output: 140x140x128\n",
    "\n",
    "        # input: 140x140x128\n",
    "        self.e31 = nn.Conv2d(128, 256, kernel_size=3, padding=1) # output: 138x138x256\n",
    "        self.e32 = nn.Conv2d(256, 256, kernel_size=3, padding=1) # output: 136x136x256\n",
    "        self.pool3 = nn.MaxPool2d(kernel_size=2, stride=2) # output: 68x68x256\n",
    "\n",
    "        # input: 68x68x256\n",
    "        self.e41 = nn.Conv2d(256, 512, kernel_size=3, padding=1) # output: 66x66x512\n",
    "        self.e42 = nn.Conv2d(512, 512, kernel_size=3, padding=1) # output: 64x64x512\n",
    "        self.pool4 = nn.MaxPool2d(kernel_size=2, stride=2) # output: 32x32x512\n",
    "\n",
    "        # input: 32x32x512\n",
    "        self.e51 = nn.Conv2d(512, 1024, kernel_size=3, padding=1) # output: 30x30x1024\n",
    "        self.e52 = nn.Conv2d(1024, 1024, kernel_size=3, padding=1) # output: 28x28x1024\n",
    "\n",
    "\n",
    "        # Decoder\n",
    "        self.upconv1 = nn.ConvTranspose2d(1024, 512, kernel_size=2, stride=2)\n",
    "        self.d11 = nn.Conv2d(1024, 512, kernel_size=3, padding=1)\n",
    "        self.d12 = nn.Conv2d(512, 512, kernel_size=3, padding=1)\n",
    "\n",
    "        self.upconv2 = nn.ConvTranspose2d(512, 256, kernel_size=2, stride=2)\n",
    "        self.d21 = nn.Conv2d(512, 256, kernel_size=3, padding=1)\n",
    "        self.d22 = nn.Conv2d(256, 256, kernel_size=3, padding=1)\n",
    "\n",
    "        self.upconv3 = nn.ConvTranspose2d(256, 128, kernel_size=2, stride=2)\n",
    "        self.d31 = nn.Conv2d(256, 128, kernel_size=3, padding=1)\n",
    "        self.d32 = nn.Conv2d(128, 128, kernel_size=3, padding=1)\n",
    "\n",
    "        self.upconv4 = nn.ConvTranspose2d(128, 64, kernel_size=2, stride=2)\n",
    "        self.d41 = nn.Conv2d(128, 64, kernel_size=3, padding=1)\n",
    "        self.d42 = nn.Conv2d(64, 64, kernel_size=3, padding=1)\n",
    "\n",
    "        # Output layer\n",
    "        self.outconv = nn.Conv2d(64, n_class, kernel_size=1)\n",
    "\n",
    "\n",
    "    def forward(self, x):\n",
    "        # Encoder\n",
    "        xe11 = relu(self.e11(x))\n",
    "        xe12 = relu(self.e12(xe11))\n",
    "        xp1 = self.pool1(xe12)\n",
    "\n",
    "        xe21 = relu(self.e21(xp1))\n",
    "        xe22 = relu(self.e22(xe21))\n",
    "        xp2 = self.pool2(xe22)\n",
    "\n",
    "        xe31 = relu(self.e31(xp2))\n",
    "        xe32 = relu(self.e32(xe31))\n",
    "        xp3 = self.pool3(xe32)\n",
    "\n",
    "        xe41 = relu(self.e41(xp3))\n",
    "        xe42 = relu(self.e42(xe41))\n",
    "        xp4 = self.pool4(xe42)\n",
    "\n",
    "        xe51 = relu(self.e51(xp4))\n",
    "        xe52 = relu(self.e52(xe51))\n",
    "\n",
    "        # Decoder\n",
    "        xu1 = self.upconv1(xe52)\n",
    "        xu11 = torch.cat([xu1, xe42], dim=1)\n",
    "        xd11 = relu(self.d11(xu11))\n",
    "        xd12 = relu(self.d12(xd11))\n",
    "\n",
    "        xu2 = self.upconv2(xd12)\n",
    "        xu22 = torch.cat([xu2, xe32], dim=1)\n",
    "        xd21 = relu(self.d21(xu22))\n",
    "        xd22 = relu(self.d22(xd21))\n",
    "\n",
    "        xu3 = self.upconv3(xd22)\n",
    "        xu33 = torch.cat([xu3, xe22], dim=1)\n",
    "        xd31 = relu(self.d31(xu33))\n",
    "        xd32 = relu(self.d32(xd31))\n",
    "\n",
    "        xu4 = self.upconv4(xd32)\n",
    "        xu44 = torch.cat([xu4, xe12], dim=1)\n",
    "        xd41 = relu(self.d41(xu44))\n",
    "        xd42 = relu(self.d42(xd41))\n",
    "\n",
    "        # Output layer\n",
    "        out = self.outconv(xd42)\n",
    "\n",
    "        return out"
   ]
  },
  {
   "cell_type": "code",
   "execution_count": null,
   "metadata": {},
   "outputs": [],
   "source": [
    "class model_1(nn.Module):\n",
    "    def __init__(self, in_channels, in_length, out_channels, out_length):\n",
    "        super().__init__()\n",
    "        #-----------------------------------\n",
    "        #Conv1d\n",
    "        in_channels_inner_0 = in_channels; in_length_inner_0 = in_length\n",
    "        kernel_size=2; stride=1; padding=1; dilation=1; \n",
    "        out_channels_inner_0 = 30; out_length_inner_0 = (in_length_inner_0+2*padding-dilation*(kernel_size-1)-1)/stride+1\n",
    "        self.conv1d = nn.Conv1d(in_channels=in_channels_inner_0, out_channels=out_channels_inner_0, kernel_size=kernel_size, stride=stride, padding=padding, dilation=dilation)\n",
    "        #-----------------------------------\n",
    "        #DNN\n",
    "        in_channels_inner_1 = out_channels_inner_0*out_length_inner_0; out_channels_inner_1 = out_channels\n",
    "\n",
    "        #-----------------------------------\n",
    "        #layer0\n",
    "        self.layer0 = nn.Sequential(\n",
    "            #-----------------------------------\n",
    "            nn.Conv1d(in_channels=in_channels_inner_0, out_channels=out_channels_inner_0, kernel_size=kernel_size, stride=stride, padding=padding, dilation=dilation),\n",
    "            nn.relu(),\n",
    "            nn.BatchNorm1d(out_channels_inner_0*out_length_inner_0),\n",
    "            #-----------------------------------\n",
    "            nn.Linear(in_channels_inner_1, out_channels_inner_1),\n",
    "            nn.relu(),\n",
    "            nn.Sigmoid()\n",
    "            #nn.BatchNorm1d(self.params_size+self.features_size),\n",
    "            #nn.BatchNorm1d(3),\n",
    "            #nn.LeakyReLU(0.2, inplace=True),\n",
    "            #nn.Sigmoid()\n",
    "        )\n",
    "\n",
    "    def forward(self, x):\n",
    "        output0 = self.layer0(x)\n",
    "        return output0"
   ]
  },
  {
   "cell_type": "markdown",
   "metadata": {},
   "source": [
    "---"
   ]
  },
  {
   "cell_type": "markdown",
   "metadata": {},
   "source": [
    "# Test conv1d"
   ]
  },
  {
   "cell_type": "code",
   "execution_count": null,
   "metadata": {},
   "outputs": [],
   "source": [
    "#https://qiita.com/sshuv/items/79d9364b8675fdc080cf\n",
    "#https://pytorch.org/docs/stable/generated/torch.nn.Conv1d.html\n",
    "#https://cvml-expertguide.net/terms/dl/layers/convolution-layer/\n",
    "\n",
    "\n",
    "#-----------------------------------\n",
    "#n_batch=10; n_feature=6; n_time=10; \n",
    "n_batch=1000; in_channels=75; in_length=500; \n",
    "x = torch.rand(n_batch, in_channels, in_length)\n",
    "\n",
    "#-----------------------------------\n",
    "in_channels=in_channels; out_channels=30; kernel_size=3; stride=1; padding=1; dilation=1; \n",
    "conv1d = nn.Conv1d(in_channels=in_channels, out_channels=out_channels, kernel_size=kernel_size, stride=stride, padding=padding, dilation=dilation)\n",
    "\n",
    "#-----------------------------------\n",
    "n_batch=n_batch; out_channels=out_channels; out_length=int((in_length+2*padding-dilation*(kernel_size-1)-1)/stride+1)\n",
    "y = conv1d(x)\n",
    "print(n_batch, out_channels, out_length)\n",
    "print(y.shape)"
   ]
  },
  {
   "cell_type": "markdown",
   "metadata": {},
   "source": [
    "---"
   ]
  },
  {
   "cell_type": "markdown",
   "metadata": {},
   "source": [
    "# Test grad"
   ]
  },
  {
   "cell_type": "code",
   "execution_count": null,
   "metadata": {},
   "outputs": [],
   "source": [
    "import torch\n",
    "import torch.nn as nn\n",
    "\n",
    "input = torch.randn(3, 5, requires_grad=True)\n",
    "target = torch.randn(3, 5, requires_grad=True)\n",
    "mse_loss = nn.MSELoss()\n",
    "output = mse_loss(input, target) #mse_loss(input, target), mse_loss(target, input)\n",
    "output.backward()\n",
    "\n",
    "print('input: ', input)\n",
    "print('target: ', target)\n",
    "print('output: ', output)\n",
    "print(input.grad)\n",
    "print(target.grad)"
   ]
  },
  {
   "cell_type": "markdown",
   "metadata": {},
   "source": [
    "---"
   ]
  },
  {
   "cell_type": "markdown",
   "metadata": {},
   "source": [
    "# Test Loss"
   ]
  },
  {
   "cell_type": "code",
   "execution_count": null,
   "metadata": {},
   "outputs": [],
   "source": [
    "import torch\n",
    "import torch.nn as nn\n",
    "\n",
    "input = torch.randn(3, 5, requires_grad=True)\n",
    "target = torch.randn(3, 5)\n",
    "mse_loss = nn.MSELoss()\n",
    "output = mse_loss(input, target)\n",
    "print('output: ', output)"
   ]
  },
  {
   "cell_type": "code",
   "execution_count": null,
   "metadata": {},
   "outputs": [],
   "source": [
    "output = mse_loss(input.view(15), target.view(15))\n",
    "output.backward()\n",
    "print('output: ', output)"
   ]
  },
  {
   "cell_type": "markdown",
   "metadata": {},
   "source": [
    "---"
   ]
  },
  {
   "cell_type": "markdown",
   "metadata": {},
   "source": [
    "# Test Batch Norm"
   ]
  },
  {
   "cell_type": "code",
   "execution_count": null,
   "metadata": {},
   "outputs": [],
   "source": []
  },
  {
   "cell_type": "markdown",
   "metadata": {},
   "source": [
    "---"
   ]
  },
  {
   "cell_type": "markdown",
   "metadata": {},
   "source": [
    "# Test DropOut"
   ]
  },
  {
   "cell_type": "code",
   "execution_count": null,
   "metadata": {},
   "outputs": [],
   "source": [
    "m = nn.Dropout(p=0.2)\n",
    "input = torch.randn(5, 2)\n",
    "output = m(input)\n",
    "output = m(output)\n",
    "output"
   ]
  },
  {
   "cell_type": "code",
   "execution_count": null,
   "metadata": {},
   "outputs": [],
   "source": []
  }
 ],
 "metadata": {
  "kernelspec": {
   "display_name": ".venv",
   "language": "python",
   "name": "python3"
  },
  "language_info": {
   "codemirror_mode": {
    "name": "ipython",
    "version": 3
   },
   "file_extension": ".py",
   "mimetype": "text/x-python",
   "name": "python",
   "nbconvert_exporter": "python",
   "pygments_lexer": "ipython3",
   "version": "3.11.5"
  }
 },
 "nbformat": 4,
 "nbformat_minor": 2
}
